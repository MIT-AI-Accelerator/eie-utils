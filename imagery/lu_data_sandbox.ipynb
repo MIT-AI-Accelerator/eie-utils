{
  "nbformat": 4,
  "nbformat_minor": 0,
  "metadata": {
    "colab": {
      "name": "lu_data_sandbox.ipynb",
      "provenance": [],
      "collapsed_sections": []
    },
    "kernelspec": {
      "name": "python3",
      "display_name": "Python 3"
    }
  },
  "cells": [
    {
      "cell_type": "markdown",
      "metadata": {
        "id": "EIKWmhwkNid6",
        "colab_type": "text"
      },
      "source": [
        "Install Dependencies "
      ]
    },
    {
      "cell_type": "code",
      "metadata": {
        "id": "hUTflRj3CR6C",
        "colab_type": "code",
        "outputId": "445d5f30-1ded-4375-bb88-f018c5ea38a9",
        "colab": {
          "base_uri": "https://localhost:8080/",
          "height": 1000
        }
      },
      "source": [
        "!apt update\n",
        "!apt upgrade\n",
        "!apt install gdal-bin python-gdal python3-gdal\n",
        "!pip install rasterio\n",
        "!pip install pyproj"
      ],
      "execution_count": 0,
      "outputs": [
        {
          "output_type": "stream",
          "text": [
            "Get:1 http://security.ubuntu.com/ubuntu bionic-security InRelease [88.7 kB]\n",
            "Ign:2 https://developer.download.nvidia.com/compute/cuda/repos/ubuntu1804/x86_64  InRelease\n",
            "Get:3 https://cloud.r-project.org/bin/linux/ubuntu bionic-cran35/ InRelease [3,626 B]\n",
            "Get:4 http://ppa.launchpad.net/graphics-drivers/ppa/ubuntu bionic InRelease [21.3 kB]\n",
            "Ign:5 https://developer.download.nvidia.com/compute/machine-learning/repos/ubuntu1804/x86_64  InRelease\n",
            "Hit:6 https://developer.download.nvidia.com/compute/cuda/repos/ubuntu1804/x86_64  Release\n",
            "Hit:7 http://archive.ubuntu.com/ubuntu bionic InRelease\n",
            "Get:8 https://developer.download.nvidia.com/compute/machine-learning/repos/ubuntu1804/x86_64  Release [564 B]\n",
            "Get:9 https://developer.download.nvidia.com/compute/machine-learning/repos/ubuntu1804/x86_64  Release.gpg [833 B]\n",
            "Get:10 http://archive.ubuntu.com/ubuntu bionic-updates InRelease [88.7 kB]\n",
            "Get:11 http://security.ubuntu.com/ubuntu bionic-security/multiverse amd64 Packages [6,779 B]\n",
            "Get:12 http://ppa.launchpad.net/marutter/c2d4u3.5/ubuntu bionic InRelease [15.4 kB]\n",
            "Get:13 http://security.ubuntu.com/ubuntu bionic-security/restricted amd64 Packages [23.7 kB]\n",
            "Get:14 http://security.ubuntu.com/ubuntu bionic-security/main amd64 Packages [781 kB]\n",
            "Get:15 http://security.ubuntu.com/ubuntu bionic-security/universe amd64 Packages [804 kB]\n",
            "Get:16 http://archive.ubuntu.com/ubuntu bionic-backports InRelease [74.6 kB]\n",
            "Get:17 https://cloud.r-project.org/bin/linux/ubuntu bionic-cran35/ Packages [81.6 kB]\n",
            "Get:19 http://ppa.launchpad.net/graphics-drivers/ppa/ubuntu bionic/main amd64 Packages [36.8 kB]\n",
            "Get:20 https://developer.download.nvidia.com/compute/machine-learning/repos/ubuntu1804/x86_64  Packages [30.4 kB]\n",
            "Get:21 http://ppa.launchpad.net/marutter/c2d4u3.5/ubuntu bionic/main Sources [1,758 kB]\n",
            "Get:22 http://archive.ubuntu.com/ubuntu bionic-updates/universe amd64 Packages [1,338 kB]\n",
            "Get:23 http://archive.ubuntu.com/ubuntu bionic-updates/restricted amd64 Packages [37.4 kB]\n",
            "Get:24 http://archive.ubuntu.com/ubuntu bionic-updates/multiverse amd64 Packages [10.8 kB]\n",
            "Get:25 http://archive.ubuntu.com/ubuntu bionic-updates/main amd64 Packages [1,078 kB]\n",
            "Get:26 http://archive.ubuntu.com/ubuntu bionic-backports/universe amd64 Packages [4,241 B]\n",
            "Get:27 http://ppa.launchpad.net/marutter/c2d4u3.5/ubuntu bionic/main amd64 Packages [848 kB]\n",
            "Fetched 7,132 kB in 3s (2,140 kB/s)\n",
            "Reading package lists... Done\n",
            "Building dependency tree       \n",
            "Reading state information... Done\n",
            "68 packages can be upgraded. Run 'apt list --upgradable' to see them.\n",
            "Reading package lists... Done\n",
            "Building dependency tree       \n",
            "Reading state information... Done\n",
            "Calculating upgrade... Done\n",
            "The following packages were automatically installed and are no longer required:\n",
            "  libllvm8 libnvidia-common-430 linux-headers-4.15.0-72\n",
            "  linux-headers-4.15.0-72-generic\n",
            "Use 'apt autoremove' to remove them.\n",
            "The following NEW packages will be installed:\n",
            "  cuda-license-10-2 libllvm9 linux-headers-4.15.0-74\n",
            "  linux-headers-4.15.0-74-generic\n",
            "The following packages have been kept back:\n",
            "  libcudnn7 libcudnn7-dev libnccl-dev libnccl2\n",
            "The following packages will be upgraded:\n",
            "  libbsd0 libcublas-dev libcublas10 libdrm-amdgpu1 libdrm-common libdrm-dev\n",
            "  libdrm-intel1 libdrm-nouveau2 libdrm-radeon1 libdrm2 libegl-mesa0\n",
            "  libegl1-mesa-dev libgbm1 libgcrypt20 libgl1-mesa-dev libgl1-mesa-dri\n",
            "  libglapi-mesa libgles2-mesa-dev libglx-mesa0 libgnutls30 libllvm8 libnss3\n",
            "  libnvidia-cfg1-440 libnvidia-common-440 libnvidia-compute-440\n",
            "  libnvidia-decode-440 libnvidia-encode-440 libnvidia-fbc1-440\n",
            "  libnvidia-gl-440 libnvidia-ifr1-440 librados2 librbd1 libsqlite3-0\n",
            "  libwayland-egl1-mesa linux-headers-generic linux-libc-dev mesa-common-dev\n",
            "  nvidia-compute-utils-440 nvidia-dkms-440 nvidia-driver-440\n",
            "  nvidia-kernel-common-440 nvidia-kernel-source-440 nvidia-utils-440\n",
            "  python3-software-properties r-cran-bh r-cran-boot r-cran-broom r-cran-cli\n",
            "  r-cran-dbi r-cran-dt r-cran-fansi r-cran-foreign r-cran-hms r-cran-knitr\n",
            "  r-cran-mass r-cran-mime r-cran-pillar r-cran-prettyunits r-cran-stringi\n",
            "  r-cran-tinytex r-cran-vctrs software-properties-common\n",
            "  xserver-xorg-core-hwe-18.04 xserver-xorg-video-nvidia-440\n",
            "64 upgraded, 4 newly installed, 0 to remove and 4 not upgraded.\n",
            "Need to get 261 MB of archives.\n",
            "After this operation, 221 MB of additional disk space will be used.\n",
            "Get:1 https://developer.download.nvidia.com/compute/cuda/repos/ubuntu1804/x86_64  cuda-license-10-2 10.2.89-1 [16.4 kB]\n",
            "Get:2 https://developer.download.nvidia.com/compute/cuda/repos/ubuntu1804/x86_64  libcublas10 10.2.2.89-1 [42.2 MB]\n",
            "Get:3 http://archive.ubuntu.com/ubuntu bionic-updates/main amd64 libgcrypt20 amd64 1.8.1-4ubuntu1.2 [417 kB]\n",
            "Get:4 http://ppa.launchpad.net/graphics-drivers/ppa/ubuntu bionic/main amd64 libnvidia-common-440 all 440.48.02-0ubuntu0~~18.04.1 [11.3 kB]\n",
            "Get:5 http://ppa.launchpad.net/graphics-drivers/ppa/ubuntu bionic/main amd64 nvidia-driver-440 amd64 440.48.02-0ubuntu0~~18.04.1 [415 kB]\n",
            "Get:6 http://archive.ubuntu.com/ubuntu bionic-updates/main amd64 libgnutls30 amd64 3.5.18-1ubuntu1.2 [645 kB]\n",
            "Get:7 http://archive.ubuntu.com/ubuntu bionic-updates/main amd64 libbsd0 amd64 0.8.7-1ubuntu0.1 [41.6 kB]\n",
            "Get:8 http://archive.ubuntu.com/ubuntu bionic-updates/main amd64 libsqlite3-0 amd64 3.22.0-1ubuntu0.2 [498 kB]\n",
            "Get:9 http://archive.ubuntu.com/ubuntu bionic-updates/main amd64 libdrm-common all 2.4.99-1ubuntu1~18.04.1 [5,264 B]\n",
            "Get:10 http://archive.ubuntu.com/ubuntu bionic-updates/main amd64 libdrm-dev amd64 2.4.99-1ubuntu1~18.04.1 [125 kB]\n",
            "Get:11 http://archive.ubuntu.com/ubuntu bionic-updates/main amd64 libdrm-intel1 amd64 2.4.99-1ubuntu1~18.04.1 [59.9 kB]\n",
            "Get:12 http://archive.ubuntu.com/ubuntu bionic-updates/main amd64 libdrm-radeon1 amd64 2.4.99-1ubuntu1~18.04.1 [21.7 kB]\n",
            "Get:13 http://archive.ubuntu.com/ubuntu bionic-updates/main amd64 libdrm-nouveau2 amd64 2.4.99-1ubuntu1~18.04.1 [16.5 kB]\n",
            "Get:14 http://archive.ubuntu.com/ubuntu bionic-updates/main amd64 libdrm-amdgpu1 amd64 2.4.99-1ubuntu1~18.04.1 [18.2 kB]\n",
            "Get:15 http://archive.ubuntu.com/ubuntu bionic-updates/main amd64 libdrm2 amd64 2.4.99-1ubuntu1~18.04.1 [31.7 kB]\n",
            "Get:16 http://archive.ubuntu.com/ubuntu bionic-updates/main amd64 libegl-mesa0 amd64 19.2.1-1ubuntu1~18.04.1 [95.2 kB]\n",
            "Get:17 http://ppa.launchpad.net/graphics-drivers/ppa/ubuntu bionic/main amd64 libnvidia-decode-440 amd64 440.48.02-0ubuntu0~~18.04.1 [1,026 kB]\n",
            "Get:18 https://developer.download.nvidia.com/compute/cuda/repos/ubuntu1804/x86_64  libcublas-dev 10.2.2.89-1 [42.3 MB]\n",
            "Get:19 http://archive.ubuntu.com/ubuntu bionic-updates/main amd64 libgbm1 amd64 19.2.1-1ubuntu1~18.04.1 [28.1 kB]\n",
            "Get:20 http://archive.ubuntu.com/ubuntu bionic-updates/main amd64 xserver-xorg-core-hwe-18.04 amd64 2:1.20.5+git20191008-0ubuntu1~18.04.1 [1,332 kB]\n",
            "Get:21 http://archive.ubuntu.com/ubuntu bionic-updates/main amd64 libllvm9 amd64 1:9-2~ubuntu18.04.1 [14.8 MB]\n",
            "Get:22 http://archive.ubuntu.com/ubuntu bionic-updates/main amd64 libgl1-mesa-dri amd64 19.2.1-1ubuntu1~18.04.1 [8,810 kB]\n",
            "Get:23 http://ppa.launchpad.net/graphics-drivers/ppa/ubuntu bionic/main amd64 libnvidia-compute-440 amd64 440.48.02-0ubuntu0~~18.04.1 [21.2 MB]\n",
            "Get:24 http://archive.ubuntu.com/ubuntu bionic-updates/main amd64 libglx-mesa0 amd64 19.2.1-1ubuntu1~18.04.1 [139 kB]\n",
            "Get:25 http://archive.ubuntu.com/ubuntu bionic-updates/main amd64 libglapi-mesa amd64 19.2.1-1ubuntu1~18.04.1 [26.5 kB]\n",
            "Get:26 http://archive.ubuntu.com/ubuntu bionic-updates/main amd64 libgl1-mesa-dev amd64 19.2.1-1ubuntu1~18.04.1 [6,172 B]\n",
            "Get:27 http://archive.ubuntu.com/ubuntu bionic-updates/main amd64 libegl1-mesa-dev amd64 19.2.1-1ubuntu1~18.04.1 [20.4 kB]\n",
            "Get:28 http://archive.ubuntu.com/ubuntu bionic-updates/main amd64 mesa-common-dev amd64 19.2.1-1ubuntu1~18.04.1 [660 kB]\n",
            "Get:29 http://archive.ubuntu.com/ubuntu bionic-updates/main amd64 libgles2-mesa-dev amd64 19.2.1-1ubuntu1~18.04.1 [44.8 kB]\n",
            "Get:30 http://archive.ubuntu.com/ubuntu bionic-updates/main amd64 libllvm8 amd64 1:8-3~ubuntu18.04.2 [13.6 MB]\n",
            "Get:31 http://archive.ubuntu.com/ubuntu bionic-updates/main amd64 libnss3 amd64 2:3.35-2ubuntu2.7 [1,135 kB]\n",
            "Get:32 http://archive.ubuntu.com/ubuntu bionic-updates/main amd64 librbd1 amd64 12.2.12-0ubuntu0.18.04.4 [920 kB]\n",
            "Get:33 http://archive.ubuntu.com/ubuntu bionic-updates/main amd64 librados2 amd64 12.2.12-0ubuntu0.18.04.4 [2,704 kB]\n",
            "Get:34 http://ppa.launchpad.net/graphics-drivers/ppa/ubuntu bionic/main amd64 libnvidia-gl-440 amd64 440.48.02-0ubuntu0~~18.04.1 [62.8 MB]\n",
            "Get:35 http://archive.ubuntu.com/ubuntu bionic-updates/main amd64 libwayland-egl1-mesa amd64 19.2.1-1ubuntu1~18.04.1 [6,844 B]\n",
            "Get:36 http://archive.ubuntu.com/ubuntu bionic-updates/main amd64 linux-headers-4.15.0-74 all 4.15.0-74.84 [11.0 MB]\n",
            "Get:37 http://archive.ubuntu.com/ubuntu bionic-updates/main amd64 linux-headers-4.15.0-74-generic amd64 4.15.0-74.84 [1,122 kB]\n",
            "Get:38 http://archive.ubuntu.com/ubuntu bionic-updates/main amd64 linux-headers-generic amd64 4.15.0.74.76 [2,348 B]\n",
            "Get:39 http://archive.ubuntu.com/ubuntu bionic-updates/main amd64 linux-libc-dev amd64 4.15.0-74.84 [1,015 kB]\n",
            "Get:40 http://archive.ubuntu.com/ubuntu bionic-updates/main amd64 software-properties-common all 0.96.24.32.12 [10.0 kB]\n",
            "Get:41 http://archive.ubuntu.com/ubuntu bionic-updates/main amd64 python3-software-properties all 0.96.24.32.12 [23.6 kB]\n",
            "Get:42 http://ppa.launchpad.net/graphics-drivers/ppa/ubuntu bionic/main amd64 nvidia-dkms-440 amd64 440.48.02-0ubuntu0~~18.04.1 [27.5 kB]\n",
            "Get:43 http://ppa.launchpad.net/graphics-drivers/ppa/ubuntu bionic/main amd64 nvidia-kernel-source-440 amd64 440.48.02-0ubuntu0~~18.04.1 [13.1 MB]\n",
            "Get:44 http://ppa.launchpad.net/graphics-drivers/ppa/ubuntu bionic/main amd64 nvidia-kernel-common-440 amd64 440.48.02-0ubuntu0~~18.04.1 [11.2 kB]\n",
            "Get:45 http://ppa.launchpad.net/graphics-drivers/ppa/ubuntu bionic/main amd64 nvidia-compute-utils-440 amd64 440.48.02-0ubuntu0~~18.04.1 [74.7 kB]\n",
            "Get:46 http://ppa.launchpad.net/graphics-drivers/ppa/ubuntu bionic/main amd64 libnvidia-encode-440 amd64 440.48.02-0ubuntu0~~18.04.1 [39.1 kB]\n",
            "Get:47 http://ppa.launchpad.net/graphics-drivers/ppa/ubuntu bionic/main amd64 nvidia-utils-440 amd64 440.48.02-0ubuntu0~~18.04.1 [346 kB]\n",
            "Get:48 http://ppa.launchpad.net/graphics-drivers/ppa/ubuntu bionic/main amd64 xserver-xorg-video-nvidia-440 amd64 440.48.02-0ubuntu0~~18.04.1 [1,479 kB]\n",
            "Get:49 http://ppa.launchpad.net/graphics-drivers/ppa/ubuntu bionic/main amd64 libnvidia-cfg1-440 amd64 440.48.02-0ubuntu0~~18.04.1 [72.6 kB]\n",
            "Get:50 http://ppa.launchpad.net/graphics-drivers/ppa/ubuntu bionic/main amd64 libnvidia-ifr1-440 amd64 440.48.02-0ubuntu0~~18.04.1 [69.9 kB]\n",
            "Get:51 http://ppa.launchpad.net/graphics-drivers/ppa/ubuntu bionic/main amd64 libnvidia-fbc1-440 amd64 440.48.02-0ubuntu0~~18.04.1 [50.3 kB]\n",
            "Get:52 http://ppa.launchpad.net/marutter/c2d4u3.5/ubuntu bionic/main amd64 r-cran-bh all 1.72.0-3-1cran1ppabionic0 [7,431 kB]\n",
            "Get:53 http://ppa.launchpad.net/marutter/c2d4u3.5/ubuntu bionic/main amd64 r-cran-boot all 1.3-24-1cran1ppabionic0 [618 kB]\n",
            "Get:54 http://ppa.launchpad.net/marutter/c2d4u3.5/ubuntu bionic/main amd64 r-cran-broom all 0.5.3-1cran1ppabionic0 [1,943 kB]\n",
            "Get:55 http://ppa.launchpad.net/marutter/c2d4u3.5/ubuntu bionic/main amd64 r-cran-fansi amd64 0.4.1-1cran1ppabionic0 [172 kB]\n",
            "Get:56 http://ppa.launchpad.net/marutter/c2d4u3.5/ubuntu bionic/main amd64 r-cran-cli all 2.0.1-1cran1ppabionic0 [368 kB]\n",
            "Get:57 http://ppa.launchpad.net/marutter/c2d4u3.5/ubuntu bionic/main amd64 r-cran-dbi all 1.1.0-1cran1ppabionic0 [551 kB]\n",
            "Get:58 http://ppa.launchpad.net/marutter/c2d4u3.5/ubuntu bionic/main amd64 r-cran-dt all 0.11-1cran1ppabionic0 [719 kB]\n",
            "Get:59 http://ppa.launchpad.net/marutter/c2d4u3.5/ubuntu bionic/main amd64 r-cran-foreign amd64 0.8.74-1ppabionic0 [233 kB]\n",
            "Get:60 http://ppa.launchpad.net/marutter/c2d4u3.5/ubuntu bionic/main amd64 r-cran-vctrs amd64 0.2.1-1cran1ppabionic0 [693 kB]\n",
            "Get:61 http://ppa.launchpad.net/marutter/c2d4u3.5/ubuntu bionic/main amd64 r-cran-hms all 0.5.3-1cran1ppabionic0 [103 kB]\n",
            "Get:62 http://ppa.launchpad.net/marutter/c2d4u3.5/ubuntu bionic/main amd64 r-cran-knitr all 1.27-1cran1ppabionic0 [1,163 kB]\n",
            "Get:63 http://ppa.launchpad.net/marutter/c2d4u3.5/ubuntu bionic/main amd64 r-cran-mass amd64 7.3-51.5-1cran1ppabionic0 [1,109 kB]\n",
            "Get:64 http://ppa.launchpad.net/marutter/c2d4u3.5/ubuntu bionic/main amd64 r-cran-mime amd64 0.8-1cran1ppabionic0 [35.2 kB]\n",
            "Get:65 http://ppa.launchpad.net/marutter/c2d4u3.5/ubuntu bionic/main amd64 r-cran-pillar all 1.4.3-1cran1ppabionic0 [177 kB]\n",
            "Get:66 http://ppa.launchpad.net/marutter/c2d4u3.5/ubuntu bionic/main amd64 r-cran-prettyunits all 1.1.0-1cran1ppabionic0 [35.7 kB]\n",
            "Get:67 http://ppa.launchpad.net/marutter/c2d4u3.5/ubuntu bionic/main amd64 r-cran-stringi amd64 1.4.5-1cran1ppabionic0 [714 kB]\n",
            "Get:68 http://ppa.launchpad.net/marutter/c2d4u3.5/ubuntu bionic/main amd64 r-cran-tinytex all 0.19-1cran1ppabionic0 [100 kB]\n",
            "Fetched 261 MB in 23s (11.5 MB/s)\n",
            "Extracting templates from packages: 100%\n",
            "(Reading database ... 135004 files and directories currently installed.)\n",
            "Preparing to unpack .../libgcrypt20_1.8.1-4ubuntu1.2_amd64.deb ...\n",
            "Unpacking libgcrypt20:amd64 (1.8.1-4ubuntu1.2) over (1.8.1-4ubuntu1.1) ...\n",
            "Setting up libgcrypt20:amd64 (1.8.1-4ubuntu1.2) ...\n",
            "(Reading database ... 135004 files and directories currently installed.)\n",
            "Preparing to unpack .../libgnutls30_3.5.18-1ubuntu1.2_amd64.deb ...\n",
            "Unpacking libgnutls30:amd64 (3.5.18-1ubuntu1.2) over (3.5.18-1ubuntu1.1) ...\n",
            "Setting up libgnutls30:amd64 (3.5.18-1ubuntu1.2) ...\n",
            "(Reading database ... 135004 files and directories currently installed.)\n",
            "Preparing to unpack .../00-libbsd0_0.8.7-1ubuntu0.1_amd64.deb ...\n",
            "Unpacking libbsd0:amd64 (0.8.7-1ubuntu0.1) over (0.8.7-1) ...\n",
            "Preparing to unpack .../01-libsqlite3-0_3.22.0-1ubuntu0.2_amd64.deb ...\n",
            "Unpacking libsqlite3-0:amd64 (3.22.0-1ubuntu0.2) over (3.22.0-1ubuntu0.1) ...\n",
            "Preparing to unpack .../02-libdrm-common_2.4.99-1ubuntu1~18.04.1_all.deb ...\n",
            "Unpacking libdrm-common (2.4.99-1ubuntu1~18.04.1) over (2.4.97-1ubuntu1~18.04.1) ...\n",
            "Preparing to unpack .../03-libdrm-dev_2.4.99-1ubuntu1~18.04.1_amd64.deb ...\n",
            "Unpacking libdrm-dev:amd64 (2.4.99-1ubuntu1~18.04.1) over (2.4.97-1ubuntu1~18.04.1) ...\n",
            "Preparing to unpack .../04-libdrm-intel1_2.4.99-1ubuntu1~18.04.1_amd64.deb ...\n",
            "Unpacking libdrm-intel1:amd64 (2.4.99-1ubuntu1~18.04.1) over (2.4.97-1ubuntu1~18.04.1) ...\n",
            "Preparing to unpack .../05-libdrm-radeon1_2.4.99-1ubuntu1~18.04.1_amd64.deb ...\n",
            "Unpacking libdrm-radeon1:amd64 (2.4.99-1ubuntu1~18.04.1) over (2.4.97-1ubuntu1~18.04.1) ...\n",
            "Preparing to unpack .../06-libdrm-nouveau2_2.4.99-1ubuntu1~18.04.1_amd64.deb ...\n",
            "Unpacking libdrm-nouveau2:amd64 (2.4.99-1ubuntu1~18.04.1) over (2.4.97-1ubuntu1~18.04.1) ...\n",
            "Preparing to unpack .../07-libdrm-amdgpu1_2.4.99-1ubuntu1~18.04.1_amd64.deb ...\n",
            "Unpacking libdrm-amdgpu1:amd64 (2.4.99-1ubuntu1~18.04.1) over (2.4.97-1ubuntu1~18.04.1) ...\n",
            "Preparing to unpack .../08-libdrm2_2.4.99-1ubuntu1~18.04.1_amd64.deb ...\n",
            "Unpacking libdrm2:amd64 (2.4.99-1ubuntu1~18.04.1) over (2.4.97-1ubuntu1~18.04.1) ...\n",
            "Selecting previously unselected package cuda-license-10-2.\n",
            "Preparing to unpack .../09-cuda-license-10-2_10.2.89-1_amd64.deb ...\n",
            "Unpacking cuda-license-10-2 (10.2.89-1) ...\n",
            "Preparing to unpack .../10-libcublas10_10.2.2.89-1_amd64.deb ...\n",
            "Unpacking libcublas10 (10.2.2.89-1) over (10.2.1.243-1) ...\n",
            "Preparing to unpack .../11-libcublas-dev_10.2.2.89-1_amd64.deb ...\n",
            "Unpacking libcublas-dev (10.2.2.89-1) over (10.2.1.243-1) ...\n",
            "Preparing to unpack .../12-libegl-mesa0_19.2.1-1ubuntu1~18.04.1_amd64.deb ...\n",
            "Unpacking libegl-mesa0:amd64 (19.2.1-1ubuntu1~18.04.1) over (19.0.8-0ubuntu0~18.04.3) ...\n",
            "Preparing to unpack .../13-libgbm1_19.2.1-1ubuntu1~18.04.1_amd64.deb ...\n",
            "Unpacking libgbm1:amd64 (19.2.1-1ubuntu1~18.04.1) over (19.0.8-0ubuntu0~18.04.3) ...\n",
            "Preparing to unpack .../14-libnvidia-common-440_440.48.02-0ubuntu0~~18.04.1_all.deb ...\n",
            "Unpacking libnvidia-common-440 (440.48.02-0ubuntu0~~18.04.1) over (440.44-0ubuntu0~0.18.04.1) ...\n",
            "Preparing to unpack .../15-nvidia-driver-440_440.48.02-0ubuntu0~~18.04.1_amd64.deb ...\n",
            "Unpacking nvidia-driver-440 (440.48.02-0ubuntu0~~18.04.1) over (440.44-0ubuntu0~0.18.04.1) ...\n",
            "Preparing to unpack .../16-libnvidia-decode-440_440.48.02-0ubuntu0~~18.04.1_amd64.deb ...\n",
            "Unpacking libnvidia-decode-440:amd64 (440.48.02-0ubuntu0~~18.04.1) over (440.44-0ubuntu0~0.18.04.1) ...\n",
            "Preparing to unpack .../17-libnvidia-compute-440_440.48.02-0ubuntu0~~18.04.1_amd64.deb ...\n",
            "Unpacking libnvidia-compute-440:amd64 (440.48.02-0ubuntu0~~18.04.1) over (440.44-0ubuntu0~0.18.04.1) ...\n",
            "Preparing to unpack .../18-libnvidia-gl-440_440.48.02-0ubuntu0~~18.04.1_amd64.deb ...\n",
            "\u001b[1mdpkg-query:\u001b[0m no packages found matching libnvidia-gl-435\n",
            "Unpacking libnvidia-gl-440:amd64 (440.48.02-0ubuntu0~~18.04.1) over (440.44-0ubuntu0~0.18.04.1) ...\n",
            "Preparing to unpack .../19-nvidia-dkms-440_440.48.02-0ubuntu0~~18.04.1_amd64.deb ...\n",
            "Removing all DKMS Modules\n",
            "Done.\n",
            "Unpacking nvidia-dkms-440 (440.48.02-0ubuntu0~~18.04.1) over (440.44-0ubuntu0~0.18.04.1) ...\n",
            "Preparing to unpack .../20-nvidia-kernel-source-440_440.48.02-0ubuntu0~~18.04.1_amd64.deb ...\n",
            "Unpacking nvidia-kernel-source-440 (440.48.02-0ubuntu0~~18.04.1) over (440.44-0ubuntu0~0.18.04.1) ...\n",
            "Preparing to unpack .../21-nvidia-kernel-common-440_440.48.02-0ubuntu0~~18.04.1_amd64.deb ...\n",
            "Unpacking nvidia-kernel-common-440 (440.48.02-0ubuntu0~~18.04.1) over (440.44-0ubuntu0~0.18.04.1) ...\n",
            "Preparing to unpack .../22-nvidia-compute-utils-440_440.48.02-0ubuntu0~~18.04.1_amd64.deb ...\n",
            "System has not been booted with systemd as init system (PID 1). Can't operate.\n",
            "System has not been booted with systemd as init system (PID 1). Can't operate.\n",
            "Unpacking nvidia-compute-utils-440 (440.48.02-0ubuntu0~~18.04.1) over (440.44-0ubuntu0~0.18.04.1) ...\n",
            "Preparing to unpack .../23-libnvidia-encode-440_440.48.02-0ubuntu0~~18.04.1_amd64.deb ...\n",
            "Unpacking libnvidia-encode-440:amd64 (440.48.02-0ubuntu0~~18.04.1) over (440.44-0ubuntu0~0.18.04.1) ...\n",
            "Preparing to unpack .../24-nvidia-utils-440_440.48.02-0ubuntu0~~18.04.1_amd64.deb ...\n",
            "Unpacking nvidia-utils-440 (440.48.02-0ubuntu0~~18.04.1) over (440.44-0ubuntu0~0.18.04.1) ...\n",
            "Preparing to unpack .../25-xserver-xorg-video-nvidia-440_440.48.02-0ubuntu0~~18.04.1_amd64.deb ...\n",
            "Unpacking xserver-xorg-video-nvidia-440 (440.48.02-0ubuntu0~~18.04.1) over (440.44-0ubuntu0~0.18.04.1) ...\n",
            "Preparing to unpack .../26-libnvidia-cfg1-440_440.48.02-0ubuntu0~~18.04.1_amd64.deb ...\n",
            "Unpacking libnvidia-cfg1-440:amd64 (440.48.02-0ubuntu0~~18.04.1) over (440.44-0ubuntu0~0.18.04.1) ...\n",
            "Preparing to unpack .../27-libnvidia-ifr1-440_440.48.02-0ubuntu0~~18.04.1_amd64.deb ...\n",
            "Unpacking libnvidia-ifr1-440:amd64 (440.48.02-0ubuntu0~~18.04.1) over (440.44-0ubuntu0~0.18.04.1) ...\n",
            "Preparing to unpack .../28-libnvidia-fbc1-440_440.48.02-0ubuntu0~~18.04.1_amd64.deb ...\n",
            "Unpacking libnvidia-fbc1-440:amd64 (440.48.02-0ubuntu0~~18.04.1) over (440.44-0ubuntu0~0.18.04.1) ...\n",
            "Preparing to unpack .../29-xserver-xorg-core-hwe-18.04_2%3a1.20.5+git20191008-0ubuntu1~18.04.1_amd64.deb ...\n",
            "Unpacking xserver-xorg-core-hwe-18.04 (2:1.20.5+git20191008-0ubuntu1~18.04.1) over (2:1.20.4-1ubuntu3~18.04.1) ...\n",
            "Selecting previously unselected package libllvm9:amd64.\n",
            "Preparing to unpack .../30-libllvm9_1%3a9-2~ubuntu18.04.1_amd64.deb ...\n",
            "Unpacking libllvm9:amd64 (1:9-2~ubuntu18.04.1) ...\n",
            "Preparing to unpack .../31-libgl1-mesa-dri_19.2.1-1ubuntu1~18.04.1_amd64.deb ...\n",
            "Unpacking libgl1-mesa-dri:amd64 (19.2.1-1ubuntu1~18.04.1) over (19.0.8-0ubuntu0~18.04.3) ...\n",
            "Preparing to unpack .../32-libglx-mesa0_19.2.1-1ubuntu1~18.04.1_amd64.deb ...\n",
            "Unpacking libglx-mesa0:amd64 (19.2.1-1ubuntu1~18.04.1) over (19.0.8-0ubuntu0~18.04.3) ...\n",
            "Preparing to unpack .../33-libglapi-mesa_19.2.1-1ubuntu1~18.04.1_amd64.deb ...\n",
            "Unpacking libglapi-mesa:amd64 (19.2.1-1ubuntu1~18.04.1) over (19.0.8-0ubuntu0~18.04.3) ...\n",
            "Preparing to unpack .../34-libgl1-mesa-dev_19.2.1-1ubuntu1~18.04.1_amd64.deb ...\n",
            "Unpacking libgl1-mesa-dev:amd64 (19.2.1-1ubuntu1~18.04.1) over (19.0.8-0ubuntu0~18.04.3) ...\n",
            "Preparing to unpack .../35-libegl1-mesa-dev_19.2.1-1ubuntu1~18.04.1_amd64.deb ...\n",
            "Unpacking libegl1-mesa-dev:amd64 (19.2.1-1ubuntu1~18.04.1) over (19.0.8-0ubuntu0~18.04.3) ...\n",
            "Preparing to unpack .../36-mesa-common-dev_19.2.1-1ubuntu1~18.04.1_amd64.deb ...\n",
            "Unpacking mesa-common-dev:amd64 (19.2.1-1ubuntu1~18.04.1) over (19.0.8-0ubuntu0~18.04.3) ...\n",
            "Preparing to unpack .../37-libgles2-mesa-dev_19.2.1-1ubuntu1~18.04.1_amd64.deb ...\n",
            "Unpacking libgles2-mesa-dev:amd64 (19.2.1-1ubuntu1~18.04.1) over (19.0.8-0ubuntu0~18.04.3) ...\n",
            "Preparing to unpack .../38-libllvm8_1%3a8-3~ubuntu18.04.2_amd64.deb ...\n",
            "Unpacking libllvm8:amd64 (1:8-3~ubuntu18.04.2) over (1:8-3~ubuntu18.04.1) ...\n",
            "Preparing to unpack .../39-libnss3_2%3a3.35-2ubuntu2.7_amd64.deb ...\n",
            "Unpacking libnss3:amd64 (2:3.35-2ubuntu2.7) over (2:3.35-2ubuntu2.6) ...\n",
            "Preparing to unpack .../40-librbd1_12.2.12-0ubuntu0.18.04.4_amd64.deb ...\n",
            "Unpacking librbd1 (12.2.12-0ubuntu0.18.04.4) over (12.2.12-0ubuntu0.18.04.3) ...\n",
            "Preparing to unpack .../41-librados2_12.2.12-0ubuntu0.18.04.4_amd64.deb ...\n",
            "Unpacking librados2 (12.2.12-0ubuntu0.18.04.4) over (12.2.12-0ubuntu0.18.04.3) ...\n",
            "Preparing to unpack .../42-libwayland-egl1-mesa_19.2.1-1ubuntu1~18.04.1_amd64.deb ...\n",
            "Unpacking libwayland-egl1-mesa:amd64 (19.2.1-1ubuntu1~18.04.1) over (19.0.8-0ubuntu0~18.04.3) ...\n",
            "Selecting previously unselected package linux-headers-4.15.0-74.\n",
            "Preparing to unpack .../43-linux-headers-4.15.0-74_4.15.0-74.84_all.deb ...\n",
            "Unpacking linux-headers-4.15.0-74 (4.15.0-74.84) ...\n",
            "Selecting previously unselected package linux-headers-4.15.0-74-generic.\n",
            "Preparing to unpack .../44-linux-headers-4.15.0-74-generic_4.15.0-74.84_amd64.deb ...\n",
            "Unpacking linux-headers-4.15.0-74-generic (4.15.0-74.84) ...\n",
            "Preparing to unpack .../45-linux-headers-generic_4.15.0.74.76_amd64.deb ...\n",
            "Unpacking linux-headers-generic (4.15.0.74.76) over (4.15.0.72.74) ...\n",
            "Preparing to unpack .../46-linux-libc-dev_4.15.0-74.84_amd64.deb ...\n",
            "Unpacking linux-libc-dev:amd64 (4.15.0-74.84) over (4.15.0-72.81) ...\n",
            "Preparing to unpack .../47-software-properties-common_0.96.24.32.12_all.deb ...\n",
            "Unpacking software-properties-common (0.96.24.32.12) over (0.96.24.32.11) ...\n",
            "Preparing to unpack .../48-python3-software-properties_0.96.24.32.12_all.deb ...\n",
            "Unpacking python3-software-properties (0.96.24.32.12) over (0.96.24.32.11) ...\n",
            "Preparing to unpack .../49-r-cran-bh_1.72.0-3-1cran1ppabionic0_all.deb ...\n",
            "Unpacking r-cran-bh (1.72.0-3-1cran1ppabionic0) over (1.69.0-1-1cran1ppabionic0) ...\n",
            "Preparing to unpack .../50-r-cran-boot_1.3-24-1cran1ppabionic0_all.deb ...\n",
            "Unpacking r-cran-boot (1.3-24-1cran1ppabionic0) over (1.3-23-2bionic0) ...\n",
            "Preparing to unpack .../51-r-cran-broom_0.5.3-1cran1ppabionic0_all.deb ...\n",
            "Unpacking r-cran-broom (0.5.3-1cran1ppabionic0) over (0.5.2-1cran1ppabionic0) ...\n",
            "Preparing to unpack .../52-r-cran-fansi_0.4.1-1cran1ppabionic0_amd64.deb ...\n",
            "Unpacking r-cran-fansi (0.4.1-1cran1ppabionic0) over (0.4.0-1cran1ppabionic0) ...\n",
            "Preparing to unpack .../53-r-cran-cli_2.0.1-1cran1ppabionic0_all.deb ...\n",
            "Unpacking r-cran-cli (2.0.1-1cran1ppabionic0) over (2.0.0-1cran1ppabionic0) ...\n",
            "Preparing to unpack .../54-r-cran-dbi_1.1.0-1cran1ppabionic0_all.deb ...\n",
            "Unpacking r-cran-dbi (1.1.0-1cran1ppabionic0) over (1.0.0-3cran1ppa0bionic0) ...\n",
            "Preparing to unpack .../55-r-cran-dt_0.11-1cran1ppabionic0_all.deb ...\n",
            "Unpacking r-cran-dt (0.11-1cran1ppabionic0) over (0.10-1cran1ppabionic0) ...\n",
            "Preparing to unpack .../56-r-cran-foreign_0.8.74-1ppabionic0_amd64.deb ...\n",
            "Unpacking r-cran-foreign (0.8.74-1ppabionic0) over (0.8.72-1ppabionic0) ...\n",
            "Preparing to unpack .../57-r-cran-vctrs_0.2.1-1cran1ppabionic0_amd64.deb ...\n",
            "Unpacking r-cran-vctrs (0.2.1-1cran1ppabionic0) over (0.2.0-1cran1ppabionic0) ...\n",
            "Preparing to unpack .../58-r-cran-hms_0.5.3-1cran1ppabionic0_all.deb ...\n",
            "Unpacking r-cran-hms (0.5.3-1cran1ppabionic0) over (0.5.2-1cran1ppabionic0) ...\n",
            "Preparing to unpack .../59-r-cran-knitr_1.27-1cran1ppabionic0_all.deb ...\n",
            "Unpacking r-cran-knitr (1.27-1cran1ppabionic0) over (1.26-1cran1ppabionic0) ...\n",
            "Preparing to unpack .../60-r-cran-mass_7.3-51.5-1cran1ppabionic0_amd64.deb ...\n",
            "Unpacking r-cran-mass (7.3-51.5-1cran1ppabionic0) over (7.3-51.4-2bionic0) ...\n",
            "Preparing to unpack .../61-r-cran-mime_0.8-1cran1ppabionic0_amd64.deb ...\n",
            "Unpacking r-cran-mime (0.8-1cran1ppabionic0) over (0.7-1cran1ppabionic0) ...\n",
            "Preparing to unpack .../62-r-cran-pillar_1.4.3-1cran1ppabionic0_all.deb ...\n",
            "Unpacking r-cran-pillar (1.4.3-1cran1ppabionic0) over (1.4.2-1cran1ppabionic0) ...\n",
            "Preparing to unpack .../63-r-cran-prettyunits_1.1.0-1cran1ppabionic0_all.deb ...\n",
            "Unpacking r-cran-prettyunits (1.1.0-1cran1ppabionic0) over (1.0.2-3cran2ppa0bionic0) ...\n",
            "Preparing to unpack .../64-r-cran-stringi_1.4.5-1cran1ppabionic0_amd64.deb ...\n",
            "Unpacking r-cran-stringi (1.4.5-1cran1ppabionic0) over (1.4.3-1cran1ppabionic0) ...\n",
            "Preparing to unpack .../65-r-cran-tinytex_0.19-1cran1ppabionic0_all.deb ...\n",
            "Unpacking r-cran-tinytex (0.19-1cran1ppabionic0) over (0.18-1cran1ppabionic0) ...\n",
            "Setting up r-cran-tinytex (0.19-1cran1ppabionic0) ...\n",
            "Setting up r-cran-boot (1.3-24-1cran1ppabionic0) ...\n",
            "Setting up libllvm8:amd64 (1:8-3~ubuntu18.04.2) ...\n",
            "Setting up libnvidia-common-440 (440.48.02-0ubuntu0~~18.04.1) ...\n",
            "Setting up libnvidia-fbc1-440:amd64 (440.48.02-0ubuntu0~~18.04.1) ...\n",
            "Setting up cuda-license-10-2 (10.2.89-1) ...\n",
            "*** LICENSE AGREEMENT ***\n",
            "By using this software you agree to fully comply with the terms and \n",
            "conditions of the EULA (End User License Agreement). The EULA is located\n",
            "at /usr/local/cuda-10.2/doc/EULA.txt. The EULA can also be found at\n",
            "http://docs.nvidia.com/cuda/eula/index.html. If you do not agree to the\n",
            "terms and conditions of the EULA, do not use the software.\n",
            "\n",
            "Setting up r-cran-foreign (0.8.74-1ppabionic0) ...\n",
            "Setting up r-cran-knitr (1.27-1cran1ppabionic0) ...\n",
            "Setting up linux-libc-dev:amd64 (4.15.0-74.84) ...\n",
            "Setting up r-cran-fansi (0.4.1-1cran1ppabionic0) ...\n",
            "Setting up r-cran-prettyunits (1.1.0-1cran1ppabionic0) ...\n",
            "Setting up libnvidia-compute-440:amd64 (440.48.02-0ubuntu0~~18.04.1) ...\n",
            "Setting up libglapi-mesa:amd64 (19.2.1-1ubuntu1~18.04.1) ...\n",
            "Setting up libbsd0:amd64 (0.8.7-1ubuntu0.1) ...\n",
            "Setting up linux-headers-4.15.0-74 (4.15.0-74.84) ...\n",
            "Setting up r-cran-vctrs (0.2.1-1cran1ppabionic0) ...\n",
            "Setting up libdrm-common (2.4.99-1ubuntu1~18.04.1) ...\n",
            "Setting up nvidia-utils-440 (440.48.02-0ubuntu0~~18.04.1) ...\n",
            "Setting up nvidia-kernel-common-440 (440.48.02-0ubuntu0~~18.04.1) ...\n",
            "Setting up libnvidia-cfg1-440:amd64 (440.48.02-0ubuntu0~~18.04.1) ...\n",
            "Setting up libcublas10 (10.2.2.89-1) ...\n",
            "Setting up libcublas-dev (10.2.2.89-1) ...\n",
            "Setting up r-cran-dt (0.11-1cran1ppabionic0) ...\n",
            "Setting up r-cran-dbi (1.1.0-1cran1ppabionic0) ...\n",
            "Setting up r-cran-hms (0.5.3-1cran1ppabionic0) ...\n",
            "Setting up r-cran-stringi (1.4.5-1cran1ppabionic0) ...\n",
            "Setting up libwayland-egl1-mesa:amd64 (19.2.1-1ubuntu1~18.04.1) ...\n",
            "Setting up libsqlite3-0:amd64 (3.22.0-1ubuntu0.2) ...\n",
            "Setting up r-cran-bh (1.72.0-3-1cran1ppabionic0) ...\n",
            "Setting up python3-software-properties (0.96.24.32.12) ...\n",
            "Setting up r-cran-broom (0.5.3-1cran1ppabionic0) ...\n",
            "Setting up libnvidia-decode-440:amd64 (440.48.02-0ubuntu0~~18.04.1) ...\n",
            "Setting up r-cran-mass (7.3-51.5-1cran1ppabionic0) ...\n",
            "Setting up libllvm9:amd64 (1:9-2~ubuntu18.04.1) ...\n",
            "Setting up nvidia-compute-utils-440 (440.48.02-0ubuntu0~~18.04.1) ...\n",
            "Setting up r-cran-mime (0.8-1cran1ppabionic0) ...\n",
            "Setting up libnvidia-encode-440:amd64 (440.48.02-0ubuntu0~~18.04.1) ...\n",
            "Setting up nvidia-kernel-source-440 (440.48.02-0ubuntu0~~18.04.1) ...\n",
            "Setting up r-cran-cli (2.0.1-1cran1ppabionic0) ...\n",
            "Setting up libnvidia-gl-440:amd64 (440.48.02-0ubuntu0~~18.04.1) ...\n",
            "Setting up software-properties-common (0.96.24.32.12) ...\n",
            "Setting up libnss3:amd64 (2:3.35-2ubuntu2.7) ...\n",
            "Setting up linux-headers-4.15.0-74-generic (4.15.0-74.84) ...\n",
            "/etc/kernel/header_postinst.d/dkms:\n",
            " * dkms: running auto installation service for kernel 4.15.0-74-generic\n",
            "   ...done.\n",
            "Setting up nvidia-dkms-440 (440.48.02-0ubuntu0~~18.04.1) ...\n",
            "Loading new nvidia-440.48.02 DKMS files...\n",
            "It is likely that 4.14.137+ belongs to a chroot's host\n",
            "Building for 4.15.0-72-generic and 4.15.0-74-generic\n",
            "Building for architecture x86_64\n",
            "Building initial module for 4.15.0-72-generic\n",
            "Done.\n",
            "\n",
            "nvidia:\n",
            "Running module version sanity check.\n",
            " - Original module\n",
            "   - No original module exists within this kernel\n",
            " - Installation\n",
            "   - Installing to /lib/modules/4.15.0-72-generic/updates/dkms/\n",
            "\n",
            "nvidia-modeset.ko:\n",
            "Running module version sanity check.\n",
            " - Original module\n",
            "   - No original module exists within this kernel\n",
            " - Installation\n",
            "   - Installing to /lib/modules/4.15.0-72-generic/updates/dkms/\n",
            "\n",
            "nvidia-drm.ko:\n",
            "Running module version sanity check.\n",
            " - Original module\n",
            "   - No original module exists within this kernel\n",
            " - Installation\n",
            "   - Installing to /lib/modules/4.15.0-72-generic/updates/dkms/\n",
            "\n",
            "nvidia-uvm.ko:\n",
            "Running module version sanity check.\n",
            " - Original module\n",
            "   - No original module exists within this kernel\n",
            " - Installation\n",
            "   - Installing to /lib/modules/4.15.0-72-generic/updates/dkms/\n",
            "\n",
            "depmod...\n",
            "\n",
            "DKMS: install completed.\n",
            "Building initial module for 4.15.0-74-generic\n",
            "Done.\n",
            "\n",
            "nvidia:\n",
            "Running module version sanity check.\n",
            " - Original module\n",
            "   - No original module exists within this kernel\n",
            " - Installation\n",
            "   - Installing to /lib/modules/4.15.0-74-generic/updates/dkms/\n",
            "\n",
            "nvidia-modeset.ko:\n",
            "Running module version sanity check.\n",
            " - Original module\n",
            "   - No original module exists within this kernel\n",
            " - Installation\n",
            "   - Installing to /lib/modules/4.15.0-74-generic/updates/dkms/\n",
            "\n",
            "nvidia-drm.ko:\n",
            "Running module version sanity check.\n",
            " - Original module\n",
            "   - No original module exists within this kernel\n",
            " - Installation\n",
            "   - Installing to /lib/modules/4.15.0-74-generic/updates/dkms/\n",
            "\n",
            "nvidia-uvm.ko:\n",
            "Running module version sanity check.\n",
            " - Original module\n",
            "   - No original module exists within this kernel\n",
            " - Installation\n",
            "   - Installing to /lib/modules/4.15.0-74-generic/updates/dkms/\n",
            "\n",
            "depmod...\n",
            "\n",
            "DKMS: install completed.\n",
            "Setting up libdrm2:amd64 (2.4.99-1ubuntu1~18.04.1) ...\n",
            "Setting up librados2 (12.2.12-0ubuntu0.18.04.4) ...\n",
            "Setting up libdrm-intel1:amd64 (2.4.99-1ubuntu1~18.04.1) ...\n",
            "Setting up libnvidia-ifr1-440:amd64 (440.48.02-0ubuntu0~~18.04.1) ...\n",
            "Setting up r-cran-pillar (1.4.3-1cran1ppabionic0) ...\n",
            "Setting up libdrm-radeon1:amd64 (2.4.99-1ubuntu1~18.04.1) ...\n",
            "Setting up libdrm-nouveau2:amd64 (2.4.99-1ubuntu1~18.04.1) ...\n",
            "Setting up linux-headers-generic (4.15.0.74.76) ...\n",
            "Setting up libdrm-amdgpu1:amd64 (2.4.99-1ubuntu1~18.04.1) ...\n",
            "Setting up libdrm-dev:amd64 (2.4.99-1ubuntu1~18.04.1) ...\n",
            "Setting up libgbm1:amd64 (19.2.1-1ubuntu1~18.04.1) ...\n",
            "Setting up libgl1-mesa-dri:amd64 (19.2.1-1ubuntu1~18.04.1) ...\n",
            "Setting up librbd1 (12.2.12-0ubuntu0.18.04.4) ...\n",
            "Setting up libegl-mesa0:amd64 (19.2.1-1ubuntu1~18.04.1) ...\n",
            "Setting up xserver-xorg-core-hwe-18.04 (2:1.20.5+git20191008-0ubuntu1~18.04.1) ...\n",
            "Setting up xserver-xorg-video-nvidia-440 (440.48.02-0ubuntu0~~18.04.1) ...\n",
            "Setting up libglx-mesa0:amd64 (19.2.1-1ubuntu1~18.04.1) ...\n",
            "Setting up mesa-common-dev:amd64 (19.2.1-1ubuntu1~18.04.1) ...\n",
            "Setting up libgl1-mesa-dev:amd64 (19.2.1-1ubuntu1~18.04.1) ...\n",
            "Setting up nvidia-driver-440 (440.48.02-0ubuntu0~~18.04.1) ...\n",
            "Setting up libegl1-mesa-dev:amd64 (19.2.1-1ubuntu1~18.04.1) ...\n",
            "Setting up libgles2-mesa-dev:amd64 (19.2.1-1ubuntu1~18.04.1) ...\n",
            "Processing triggers for man-db (2.8.3-2ubuntu0.1) ...\n",
            "Processing triggers for dbus (1.12.2-1ubuntu1.1) ...\n",
            "Processing triggers for libc-bin (2.27-3ubuntu1) ...\n",
            "Reading package lists... Done\n",
            "Building dependency tree       \n",
            "Reading state information... Done\n",
            "gdal-bin is already the newest version (2.2.3+dfsg-2).\n",
            "python-gdal is already the newest version (2.2.3+dfsg-2).\n",
            "python3-gdal is already the newest version (2.2.3+dfsg-2).\n",
            "The following packages were automatically installed and are no longer required:\n",
            "  libllvm8 libnvidia-common-430 linux-headers-4.15.0-72\n",
            "  linux-headers-4.15.0-72-generic\n",
            "Use 'apt autoremove' to remove them.\n",
            "0 upgraded, 0 newly installed, 0 to remove and 4 not upgraded.\n",
            "Collecting rasterio\n",
            "\u001b[?25l  Downloading https://files.pythonhosted.org/packages/be/e5/7052a3eef72af7e883a280d8dff64f4ea44cb92ec25ffb1d00ce27bc1a12/rasterio-1.1.2-cp36-cp36m-manylinux1_x86_64.whl (18.0MB)\n",
            "\u001b[K     |████████████████████████████████| 18.0MB 239kB/s \n",
            "\u001b[?25hRequirement already satisfied: click<8,>=4.0 in /usr/local/lib/python3.6/dist-packages (from rasterio) (7.0)\n",
            "Collecting affine\n",
            "  Downloading https://files.pythonhosted.org/packages/ac/a6/1a39a1ede71210e3ddaf623982b06ecfc5c5c03741ae659073159184cd3e/affine-2.3.0-py2.py3-none-any.whl\n",
            "Collecting click-plugins\n",
            "  Downloading https://files.pythonhosted.org/packages/e9/da/824b92d9942f4e472702488857914bdd50f73021efea15b4cad9aca8ecef/click_plugins-1.1.1-py2.py3-none-any.whl\n",
            "Collecting snuggs>=1.4.1\n",
            "  Downloading https://files.pythonhosted.org/packages/cc/0e/d27d6e806d6c0d1a2cfdc5d1f088e42339a0a54a09c3343f7f81ec8947ea/snuggs-1.4.7-py3-none-any.whl\n",
            "Requirement already satisfied: attrs in /usr/local/lib/python3.6/dist-packages (from rasterio) (19.3.0)\n",
            "Requirement already satisfied: numpy in /usr/local/lib/python3.6/dist-packages (from rasterio) (1.17.5)\n",
            "Collecting cligj>=0.5\n",
            "  Downloading https://files.pythonhosted.org/packages/e4/be/30a58b4b0733850280d01f8bd132591b4668ed5c7046761098d665ac2174/cligj-0.5.0-py3-none-any.whl\n",
            "Requirement already satisfied: pyparsing>=2.1.6 in /usr/local/lib/python3.6/dist-packages (from snuggs>=1.4.1->rasterio) (2.4.6)\n",
            "Installing collected packages: affine, click-plugins, snuggs, cligj, rasterio\n",
            "Successfully installed affine-2.3.0 click-plugins-1.1.1 cligj-0.5.0 rasterio-1.1.2 snuggs-1.4.7\n",
            "Collecting pyproj\n",
            "\u001b[?25l  Downloading https://files.pythonhosted.org/packages/d6/70/eedc98cd52b86de24a1589c762612a98bea26cde649ffdd60c1db396cce8/pyproj-2.4.2.post1-cp36-cp36m-manylinux2010_x86_64.whl (10.1MB)\n",
            "\u001b[K     |████████████████████████████████| 10.1MB 2.9MB/s \n",
            "\u001b[?25hInstalling collected packages: pyproj\n",
            "Successfully installed pyproj-2.4.2.post1\n"
          ],
          "name": "stdout"
        }
      ]
    },
    {
      "cell_type": "markdown",
      "metadata": {
        "id": "IeN9anASNzm1",
        "colab_type": "text"
      },
      "source": [
        "Mount Google Drive"
      ]
    },
    {
      "cell_type": "code",
      "metadata": {
        "id": "tglY00AhTZKH",
        "colab_type": "code",
        "outputId": "81dc0591-579a-43b9-fbb3-d3555b3b8582",
        "colab": {
          "base_uri": "https://localhost:8080/",
          "height": 35
        }
      },
      "source": [
        "!ls \"/content/drive/My Drive/EIE Side Projects/lu_data_upgrade/de_1m_2013_extended-test_tiles\""
      ],
      "execution_count": 0,
      "outputs": [
        {
          "output_type": "stream",
          "text": [
            "ls: cannot access '/content/drive/My Drive/EIE Side Projects/lu_data_upgrade/de_1m_2013_extended-test_tiles': No such file or directory\n"
          ],
          "name": "stdout"
        }
      ]
    },
    {
      "cell_type": "code",
      "metadata": {
        "id": "izh8q9oLIV81",
        "colab_type": "code",
        "outputId": "2ad41c50-d997-491b-ca6b-9dc0b997da6f",
        "colab": {
          "base_uri": "https://localhost:8080/",
          "height": 141
        }
      },
      "source": [
        "import os\n",
        "from google.colab import drive\n",
        "drive.mount('/content/drive')\n",
        "\n",
        "\n",
        "!ls \"/content/drive/My Drive/EIE Side Projects/lu_data_upgrade/de_1m_2013_extended-test_tiles/m_3807504_ne_18_1_lu.tif\""
      ],
      "execution_count": 0,
      "outputs": [
        {
          "output_type": "stream",
          "text": [
            "Go to this URL in a browser: https://accounts.google.com/o/oauth2/auth?client_id=947318989803-6bn6qk8qdgf4n4g3pfee6491hc0brc4i.apps.googleusercontent.com&redirect_uri=urn%3aietf%3awg%3aoauth%3a2.0%3aoob&response_type=code&scope=email%20https%3a%2f%2fwww.googleapis.com%2fauth%2fdocs.test%20https%3a%2f%2fwww.googleapis.com%2fauth%2fdrive%20https%3a%2f%2fwww.googleapis.com%2fauth%2fdrive.photos.readonly%20https%3a%2f%2fwww.googleapis.com%2fauth%2fpeopleapi.readonly\n",
            "\n",
            "Enter your authorization code:\n",
            "··········\n",
            "Mounted at /content/drive\n",
            "'/content/drive/My Drive/EIE Side Projects/lu_data_upgrade/de_1m_2013_extended-test_tiles/m_3807504_ne_18_1_lu.tif'\n"
          ],
          "name": "stdout"
        }
      ]
    },
    {
      "cell_type": "markdown",
      "metadata": {
        "id": "tjk4Fng5N7TV",
        "colab_type": "text"
      },
      "source": [
        "Read Data with rasterio"
      ]
    },
    {
      "cell_type": "code",
      "metadata": {
        "id": "DAUtmiyXKt4m",
        "colab_type": "code",
        "outputId": "baea4a7d-0647-4b78-e41b-f2de89ac7178",
        "colab": {
          "base_uri": "https://localhost:8080/",
          "height": 245
        }
      },
      "source": [
        "import rasterio\n",
        "\n",
        "# Brandon\n",
        "#fn = \"/content/drive/Shared drives/EIE Side Projects/lu_data_upgrade/de_1m_2013_extended-test_tiles/m_3807504_ne_18_1_lu.tif\" \n",
        "\n",
        "# Peter\n",
        "fn = \"/content/drive/My Drive/EIE Side Projects/lu_data_upgrade/de_1m_2013_extended-test_tiles/m_3807504_ne_18_1_lu.tif\"\n",
        "\n",
        "with rasterio.open(fn, \"r\") as f:\n",
        "  data = f.read()\n",
        "  # print('width:', f.width, 'height:', f.height)\n",
        "  # print('coordinates:', f.crs)\n",
        "  # print('transform:\\n', f.transform)\n",
        "  # print('count:', f.count)\n",
        "  # print('indexes:', f.indexes)\n",
        "  # print('bounds:', f.bounds)\n",
        "\n",
        "  # print('raster:', f.meta)\n",
        "\n",
        "  # print(f.transform * (0, 0))"
      ],
      "execution_count": 0,
      "outputs": [
        {
          "output_type": "stream",
          "text": [
            "width: 6056 height: 7569\n",
            "coordinates: EPSG:26918\n",
            "transform:\n",
            " | 1.00, 0.00, 450949.00|\n",
            "| 0.00,-1.00, 4317228.00|\n",
            "| 0.00, 0.00, 1.00|\n",
            "count: 1\n",
            "indexes: (1,)\n",
            "bounds: BoundingBox(left=450949.0, bottom=4309659.0, right=457005.0, top=4317228.0)\n",
            "raster: {'driver': 'GTiff', 'dtype': 'uint8', 'nodata': 0.0, 'width': 6056, 'height': 7569, 'count': 1, 'crs': CRS.from_epsg(26918), 'transform': Affine(1.0, 0.0, 450949.0,\n",
            "       0.0, -1.0, 4317228.0)}\n",
            "(450949.0, 4317228.0)\n"
          ],
          "name": "stdout"
        }
      ]
    },
    {
      "cell_type": "code",
      "metadata": {
        "id": "dBBAA9gZEyJ-",
        "colab_type": "code",
        "outputId": "7b77674a-98a9-418b-c009-67e838efc257",
        "colab": {
          "base_uri": "https://localhost:8080/",
          "height": 35
        }
      },
      "source": [
        ""
      ],
      "execution_count": 0,
      "outputs": [
        {
          "output_type": "execute_result",
          "data": {
            "text/plain": [
              "(457005.0, 4309659.0)"
            ]
          },
          "metadata": {
            "tags": []
          },
          "execution_count": 5
        }
      ]
    },
    {
      "cell_type": "markdown",
      "metadata": {
        "id": "ov55OkttN-2H",
        "colab_type": "text"
      },
      "source": [
        "Plot with matplotlib"
      ]
    },
    {
      "cell_type": "code",
      "metadata": {
        "id": "-HAht3agLU0z",
        "colab_type": "code",
        "outputId": "ecf8959b-1c03-4a28-e460-829380639972",
        "colab": {
          "base_uri": "https://localhost:8080/",
          "height": 287
        }
      },
      "source": [
        "from matplotlib import pyplot\n",
        "pyplot.imshow(data[0,:,:])\n",
        "\n",
        "# map image: https://www.google.com/maps/place/38%C2%B058'07.5%22N+75%C2%B031'52.5%22W/@38.9731444,-75.5476396,4289m/data=!3m1!1e3!4m5!3m4!1s0x0:0x0!8m2!3d38.9687551!4d-75.5312588"
      ],
      "execution_count": 0,
      "outputs": [
        {
          "output_type": "execute_result",
          "data": {
            "text/plain": [
              "<matplotlib.image.AxesImage at 0x7f3f1b862668>"
            ]
          },
          "metadata": {
            "tags": []
          },
          "execution_count": 6
        },
        {
          "output_type": "display_data",
          "data": {
            "image/png": "[encoded data removed]",
            "text/plain": [
              "<Figure size 432x288 with 1 Axes>"
            ]
          },
          "metadata": {
            "tags": []
          }
        }
      ]
    },
    {
      "cell_type": "code",
      "metadata": {
        "id": "lQaHzJPXLpBO",
        "colab_type": "code",
        "outputId": "68c0a7e6-f7d9-4897-d442-8078456dd759",
        "colab": {
          "base_uri": "https://localhost:8080/",
          "height": 35
        }
      },
      "source": [
        "data[0,:,:].shape"
      ],
      "execution_count": 0,
      "outputs": [
        {
          "output_type": "execute_result",
          "data": {
            "text/plain": [
              "(7569, 6056)"
            ]
          },
          "metadata": {
            "tags": []
          },
          "execution_count": 8
        }
      ]
    },
    {
      "cell_type": "markdown",
      "metadata": {
        "id": "lPc28-cRfoyE",
        "colab_type": "text"
      },
      "source": [
        "Calculate geographic coordinates of image"
      ]
    },
    {
      "cell_type": "code",
      "metadata": {
        "id": "CuNOA2tB0eHl",
        "colab_type": "code",
        "colab": {}
      },
      "source": [
        "from pyproj import Proj, transform\n",
        "\n",
        "# coordinate system: the definition of the local, regional, or global system in which a raster’s pixels are located\n",
        "# dataset.crs\n",
        "\n",
        "# affine transformation: the parameters by which pixel coordinates are transformed into coordinates in that system \n",
        "# dataset.transform\n",
        "\n",
        "inProj = Proj(str(dataset.crs))\n",
        "outProj = Proj('epsg:4326')\n",
        "\n",
        "# convert the point in the middle of the data set to coordinates within the crs reference frame \n",
        "# (this is a matrix multiplication)\n",
        "x_crs,y_crs = dataset.transform.__mul__([dataset.width/2, dataset.height/2])\n",
        "\n",
        "\n",
        "# convert from the crs reference frame to the WGS-84 reference frame\n",
        "x_wgs84,y_wgs84 = transform(inProj,outProj,x_crs,y_crs)\n",
        "\n"
      ],
      "execution_count": 0,
      "outputs": []
    },
    {
      "cell_type": "code",
      "metadata": {
        "id": "xByZwKKPyute",
        "colab_type": "code",
        "colab": {}
      },
      "source": [
        ""
      ],
      "execution_count": 0,
      "outputs": []
    }
  ]
}